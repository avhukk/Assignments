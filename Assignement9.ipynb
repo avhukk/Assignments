{
 "cells": [
  {
   "cell_type": "markdown",
   "id": "1716e16d",
   "metadata": {},
   "source": [
    "# Assignment 9\n",
    "### Prepared by Dr. Abhishek Hukkerikar"
   ]
  },
  {
   "cell_type": "markdown",
   "id": "10e40b25",
   "metadata": {},
   "source": [
    "#### 1. To what does a relative path refer ?"
   ]
  },
  {
   "cell_type": "markdown",
   "id": "96f551e1",
   "metadata": {},
   "source": [
    "**Ans:** Lets assume that we are looking for a file Assignment9 stored locally in my system. Thus `/home/haya/Documents/DataScience/Hayagreeva/iNeuron/Assignment/Python_basics/Assignment9.ipynb` would be the absolute path. The working directory would be `/home/haya/Documents`, the relative path would be throught the folder `/DataScience/Hayagreeva/iNeuron/Assignment/Python_basics/Assignment9.ipynb'`\n",
    "\n",
    "Thus the current working directory + relative path -> absolute path"
   ]
  },
  {
   "cell_type": "markdown",
   "id": "da16ea97",
   "metadata": {},
   "source": [
    "#### 2. Where does an absolute path start with your Operating System ?"
   ]
  },
  {
   "cell_type": "markdown",
   "id": "47065bdd",
   "metadata": {},
   "source": [
    "**Ans:** In my system, with OpenSuse Leap, the absolute path starts with `/`"
   ]
  },
  {
   "cell_type": "markdown",
   "id": "d6d3da48",
   "metadata": {},
   "source": [
    "#### 3. What does the functions os.getcwd() and os.chdir() do ?"
   ]
  },
  {
   "cell_type": "markdown",
   "id": "d9b35fb4",
   "metadata": {},
   "source": [
    "**Ans:** The `os.getcwd()` would return the current working directory of the file whereas the `os.chdir()` would change the current working directory to the location we specify. The code below enumerates both the commands. "
   ]
  },
  {
   "cell_type": "code",
   "execution_count": 1,
   "id": "2bb458ba",
   "metadata": {},
   "outputs": [
    {
     "data": {
      "text/plain": [
       "'/home/haya/Documents/DataScience/Hayagreeva/iNeuron/Assignment/Python_basics'"
      ]
     },
     "execution_count": 1,
     "metadata": {},
     "output_type": "execute_result"
    }
   ],
   "source": [
    "import os\n",
    "os.getcwd()"
   ]
  },
  {
   "cell_type": "code",
   "execution_count": 3,
   "id": "4d2ae294",
   "metadata": {},
   "outputs": [],
   "source": [
    "os.chdir('/home/haya/Documents/DataScience')"
   ]
  },
  {
   "cell_type": "code",
   "execution_count": 4,
   "id": "177131b2",
   "metadata": {},
   "outputs": [
    {
     "data": {
      "text/plain": [
       "'/home/haya/Documents/DataScience'"
      ]
     },
     "execution_count": 4,
     "metadata": {},
     "output_type": "execute_result"
    }
   ],
   "source": [
    "os.getcwd()"
   ]
  },
  {
   "cell_type": "markdown",
   "id": "a8857a35",
   "metadata": {},
   "source": [
    "#### 4. What are . and .. folders ?"
   ]
  },
  {
   "cell_type": "markdown",
   "id": "5e12ab9f",
   "metadata": {},
   "source": [
    "**Ans:** \n",
    "* `.` represents the Current Working Directory (CWD)\n",
    "* `..` represents the Parent Directory of the CWD\n",
    "\n",
    "Suppose the absolute path is `/home/haya/Documents/DataScience/Hayagreeva/iNeuron/Assignment/Python_basics/Assignment9.ipynb`, then \n",
    "\n",
    "* `/home/haya/Documents/DataScience/Hayagreeva/iNeuron/Assignment/Python_basics/Assignment9.ipynb`is the represnted by `.`\n",
    "* `/home/haya/Documents/DataScience/Hayagreeva/iNeuron/Assignment` is represented by `..`"
   ]
  },
  {
   "cell_type": "markdown",
   "id": "662f1984",
   "metadata": {},
   "source": [
    "#### 5. In C:\\bacon\\eggs\\spam.txt which part is the dir name and which part is the base name ?"
   ]
  },
  {
   "cell_type": "markdown",
   "id": "32a375c4",
   "metadata": {},
   "source": [
    "`For C:\\bacon\\eggs\\spam.txt`\n",
    "<br>\n",
    "The dir name is `C:\\\\bacon\\\\eggs`\n",
    "The Base name is `spam.txt`"
   ]
  },
  {
   "cell_type": "markdown",
   "id": "9daa835f",
   "metadata": {},
   "source": [
    "**Ans:** I will demonstrate the dirname and basename using my local files"
   ]
  },
  {
   "cell_type": "code",
   "execution_count": 14,
   "id": "5a9fdff8",
   "metadata": {},
   "outputs": [
    {
     "name": "stdout",
     "output_type": "stream",
     "text": [
      "/home/haya/Documents\n",
      "DataScience\n"
     ]
    }
   ],
   "source": [
    "path = '/home/haya/Documents/DataScience'\n",
    "print(os.path.dirname(path))\n",
    "print(os.path.basename(path))"
   ]
  },
  {
   "cell_type": "markdown",
   "id": "23c8e470",
   "metadata": {},
   "source": [
    "#### 6. What are the three mode arguments that can be passed to the open() function ?"
   ]
  },
  {
   "cell_type": "markdown",
   "id": "dd0cbecf",
   "metadata": {},
   "source": [
    "**Ans:** A file in python could be accessed by `open()` function. The `open()` function takes two arguments - the filename and the mode of operation described below:  \n",
    "* **`'t'`**: Text (default entry). Text mode\n",
    "* **`'b'`**: Binary mode. (Images)\n",
    "* **`'r'`** : Read mode. This is also the default mode. With this the file is opened and the pointer is positioned at the beginning of the file's content\n",
    "* **`'w'`** : Write mode. Using the model will overwrite anyexisting file content. If file does not exist, a new one will be created. \n",
    "* **`'r+'`** : Read and Write mode: This mode will help in reading and writing simultaneously. \n",
    "* **`'a'`** : Append mode : This mode will help in appending data without overwriting any data existing in the file. \n",
    "* **`'a+'`** : Append and Read mode : This mode one can read and append the data without overwriting the original file. \n",
    "* **`'x'`** : Exclusive creating mode : To be used when the sole purpose is the create neuw files if the file in question does not exist beforehand. "
   ]
  },
  {
   "cell_type": "markdown",
   "id": "9690a2c7",
   "metadata": {},
   "source": [
    "#### 7. What happens if an existing file is opened in write mode ?"
   ]
  },
  {
   "cell_type": "markdown",
   "id": "726174bd",
   "metadata": {},
   "source": [
    "**Ans:** This mode will overwrite any existing file content. If file does not exist, a new one will be created. "
   ]
  },
  {
   "cell_type": "markdown",
   "id": "88584dd6",
   "metadata": {},
   "source": [
    "#### 8.How do you tell the difference between read() and readlines() ?"
   ]
  },
  {
   "cell_type": "markdown",
   "id": "170db989",
   "metadata": {},
   "source": [
    "**Ans:** The `read()` function is used to read the entire file at once. It reads the entire file from start to finish and returns the text as one string. Whereas the `readline()` reads one line at a time. If the first sentence of the file is 2 lines long, then the function would parse the content corresponding only to 1 line. "
   ]
  },
  {
   "cell_type": "markdown",
   "id": "0f5e7c3e",
   "metadata": {},
   "source": [
    "#### 9. What data structure does a shelf value resemble"
   ]
  },
  {
   "cell_type": "markdown",
   "id": "37f65687",
   "metadata": {},
   "source": [
    "**Ans:** A shelf object is a dictionary-like object, which is defined in this module. Keys in shelf objects are strings and values are Python objects, that can be handled by the Pickle module. "
   ]
  },
  {
   "cell_type": "code",
   "execution_count": null,
   "id": "e37c9ed3",
   "metadata": {},
   "outputs": [],
   "source": []
  }
 ],
 "metadata": {
  "kernelspec": {
   "display_name": "Python 3 (ipykernel)",
   "language": "python",
   "name": "python3"
  },
  "language_info": {
   "codemirror_mode": {
    "name": "ipython",
    "version": 3
   },
   "file_extension": ".py",
   "mimetype": "text/x-python",
   "name": "python",
   "nbconvert_exporter": "python",
   "pygments_lexer": "ipython3",
   "version": "3.10.9"
  }
 },
 "nbformat": 4,
 "nbformat_minor": 5
}
