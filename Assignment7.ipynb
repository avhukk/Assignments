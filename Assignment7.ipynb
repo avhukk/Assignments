{
 "cells": [
  {
   "cell_type": "markdown",
   "id": "1e930bab",
   "metadata": {},
   "source": [
    "# Assignment 7\n",
    "\n",
    "Prepared by: Dr. Abhishek Hukkerikar (FSDS 2.0)\n",
    "\n",
    "Kindly note that all the previous assignments were published in word documents. All future ones will be in Jupyter notebooks to maximize code usage"
   ]
  },
  {
   "cell_type": "markdown",
   "id": "a22376fd",
   "metadata": {},
   "source": [
    "#### 1. What is the name of the feature responsible for generating Regex objects?"
   ]
  },
  {
   "cell_type": "markdown",
   "id": "493dcfbb",
   "metadata": {},
   "source": [
    "**Ans:** A RegEx os a sequence of characters that forms a search pattern.RegEx can be used to check if a string contains a specified search pattern. \n",
    "re.compile() is the feature responsible for generating Regex objects"
   ]
  },
  {
   "cell_type": "code",
   "execution_count": 2,
   "id": "2057231a",
   "metadata": {},
   "outputs": [
    {
     "name": "stdout",
     "output_type": "stream",
     "text": [
      "re.compile('Randomness')\n"
     ]
    }
   ],
   "source": [
    "import re\n",
    "x = re.compile(\"Randomness\")\n",
    "type(x)\n",
    "print(x)"
   ]
  },
  {
   "cell_type": "markdown",
   "id": "be7798f0",
   "metadata": {},
   "source": [
    "#### 2. Why do raw strings often appear in Regex objects?"
   ]
  },
  {
   "cell_type": "markdown",
   "id": "0db350c8",
   "metadata": {},
   "source": [
    "**Ans:** Regular expressions use the backslash character ('\\\\') to indicate special forms (Metacharacters) or to allow special characters (speical sequences) to be used without invoking their special meaning. This collides with Python’s usage of the same character for the same purpose in string literals. Hence, Raw strings are used (e.g. r\"\\n\") so that backslashes do not have to be escaped."
   ]
  },
  {
   "cell_type": "markdown",
   "id": "3f09ea61",
   "metadata": {},
   "source": [
    "#### 3. What is the return value of the search() method?"
   ]
  },
  {
   "cell_type": "code",
   "execution_count": 9,
   "id": "5030c1dc",
   "metadata": {},
   "outputs": [
    {
     "name": "stdout",
     "output_type": "stream",
     "text": [
      "Yes! we have a match\n"
     ]
    }
   ],
   "source": [
    "import re\n",
    "txt = \"The rain in Spain\"\n",
    "y = re.search(\"^The.*Spain$\", txt)\n",
    "\n",
    "if y:\n",
    "    print('Yes! we have a match')\n",
    "else: \n",
    "    print('No match')"
   ]
  },
  {
   "cell_type": "markdown",
   "id": "f9ccad80",
   "metadata": {},
   "source": [
    "#### 4. From a Match item, how do you get the actual strings that match the pattern?"
   ]
  },
  {
   "cell_type": "markdown",
   "id": "dd10c34b",
   "metadata": {},
   "source": [
    "**Ans:** For matched items group() method returns actual strings that match the pattern"
   ]
  },
  {
   "cell_type": "code",
   "execution_count": 12,
   "id": "d5579b54",
   "metadata": {},
   "outputs": [
    {
     "name": "stdout",
     "output_type": "stream",
     "text": [
      "Output: iNeuron\n"
     ]
    }
   ],
   "source": [
    "import re\n",
    "match = re.search('ineuron', 'I am pursuing Full Stack Data Science from iNeuron', flags = re.IGNORECASE)\n",
    "print('Output:', match.group())"
   ]
  },
  {
   "cell_type": "markdown",
   "id": "e7fe516d",
   "metadata": {},
   "source": [
    "#### 5. In the regex which created from the **r'`(\\d\\d\\d)-(\\d\\d\\d-\\d\\d\\d\\d)`'**, what does group zero cover? Group 2? Group 1?"
   ]
  },
  {
   "cell_type": "markdown",
   "id": "b65778f3",
   "metadata": {},
   "source": [
    "**Ans:** In the RegEx **`r'(\\d\\d\\d)-(\\d\\d\\d-\\d\\d\\d\\d)'`** the group zero covers the entire pattern match where as the first group covers **`(\\d\\d\\d)`** and the second group covers **`(\\d\\d\\d-\\d\\d\\d\\d)`**"
   ]
  },
  {
   "cell_type": "code",
   "execution_count": 16,
   "id": "67f081f5",
   "metadata": {},
   "outputs": [
    {
     "name": "stdout",
     "output_type": "stream",
     "text": [
      "('90195', '90924')\n",
      "90195-90924\n",
      "90195\n",
      "90924\n"
     ]
    }
   ],
   "source": [
    "phoneNumRegex = re.compile(r'(\\d\\d\\d\\d\\d)-(\\d\\d\\d\\d\\d)')\n",
    "mo = phoneNumRegex.search('My number is 90195-90924')\n",
    "print(mo.groups()) # Returns all the groups in Tuple format\n",
    "print(mo.group()) # Returns the matched string (completely matched)\n",
    "print(mo.group(1))# The first group match\n",
    "print(mo.group(2))# The second group                         "
   ]
  },
  {
   "cell_type": "markdown",
   "id": "54895ed1",
   "metadata": {},
   "source": [
    "#### 6. In standard expression syntax, parentheses and intervals have distinct meanings. How can you tell a regex that you want it to fit real parentheses and periods?"
   ]
  },
  {
   "cell_type": "markdown",
   "id": "b6292f6f",
   "metadata": {},
   "source": [
    "**Ans:** **`\\.`** **`\\(`** and **`\\)`** escape characters in the raw string passed to re.compile() will match actual parenthesis characters."
   ]
  },
  {
   "cell_type": "code",
   "execution_count": 21,
   "id": "2a6938d0",
   "metadata": {},
   "outputs": [
    {
     "name": "stdout",
     "output_type": "stream",
     "text": [
      "(90195) 90924\n"
     ]
    }
   ],
   "source": [
    "phoneno = re.compile(r'(\\(\\d\\d\\d\\d\\d\\)) (\\d\\d\\d\\d\\d)')\n",
    "no = phoneno.search('My phone number is (90195) 90924')\n",
    "print(no.group())"
   ]
  },
  {
   "cell_type": "markdown",
   "id": "c5a4040f",
   "metadata": {},
   "source": [
    "#### 7. The findall() method returns a string list or a list of string tuples. What causes it to return one of the two options?"
   ]
  },
  {
   "cell_type": "markdown",
   "id": "871ab191",
   "metadata": {},
   "source": [
    "**Ans:** If the regex has pattern has no groups, a list of strings matched is returned. If regex pattern has groups, a list of tuple of strings is returned. "
   ]
  },
  {
   "cell_type": "code",
   "execution_count": 3,
   "id": "82701a6f",
   "metadata": {},
   "outputs": [
    {
     "name": "stdout",
     "output_type": "stream",
     "text": [
      "[('(90195)', '90-924')]\n",
      "['90195-90924']\n"
     ]
    }
   ],
   "source": [
    "num = re.compile(r\"(\\(\\d\\d\\d\\d\\d\\)) (\\d\\d-\\d\\d\\d)\")\n",
    "mo = num.findall(\"My phone number is (90195) 90-924\")\n",
    "print(mo)\n",
    "num = re.compile(r\"\\d{5}-\\d{5}\")\n",
    "mo = num.findall(\"My phone number is 90195-90924\")\n",
    "print(mo)"
   ]
  },
  {
   "cell_type": "markdown",
   "id": "fb93919f",
   "metadata": {},
   "source": [
    "#### 8. In standard expressions, what does the | character mean?"
   ]
  },
  {
   "cell_type": "markdown",
   "id": "58b0b211",
   "metadata": {},
   "source": [
    "**Ans:** In standard expression, **`|`** means **`OR`** operator"
   ]
  },
  {
   "cell_type": "markdown",
   "id": "61d49b3d",
   "metadata": {},
   "source": [
    "#### 9. In regular expressions, what does the ? character stand for?"
   ]
  },
  {
   "cell_type": "markdown",
   "id": "e718bdb5",
   "metadata": {},
   "source": [
    "**Ans:** In regular expression **`?`** represents 0 or 1 match for preceeding group."
   ]
  },
  {
   "cell_type": "code",
   "execution_count": 6,
   "id": "62991d0f",
   "metadata": {},
   "outputs": [
    {
     "name": "stdout",
     "output_type": "stream",
     "text": [
      "<re.Match object; span=(0, 7), match='Germany'>\n",
      "<re.Match object; span=(0, 10), match='Austrailia'>\n"
     ]
    }
   ],
   "source": [
    "match1 = re.search(\"Ger(man)?y\", \"Germany\")\n",
    "print(match1)\n",
    "match2 = re.search(\"(Aus)?trailia\", \"Austrailia\")\n",
    "print(match2)"
   ]
  },
  {
   "cell_type": "markdown",
   "id": "fd2fa7f4",
   "metadata": {},
   "source": [
    "#### 10. In regular expressions, what is the difference between the + and * characters?"
   ]
  },
  {
   "cell_type": "markdown",
   "id": "17a3574e",
   "metadata": {},
   "source": [
    "**Ans:** In regular expression **`*`** represents zero or more occurances whereas **`+`** represents one or more occurances"
   ]
  },
  {
   "cell_type": "code",
   "execution_count": 14,
   "id": "13e1638d",
   "metadata": {},
   "outputs": [
    {
     "name": "stdout",
     "output_type": "stream",
     "text": [
      "<re.Match object; span=(0, 7), match='Germany'>\n",
      "None\n",
      "<re.Match object; span=(3, 9), match='tralia'>\n"
     ]
    }
   ],
   "source": [
    "match1 = re.search(\"Ger(man)*y\", \"Germany\")\n",
    "print(match1)\n",
    "match2 = re.search(\"(Ant)+tralia\", \"Australia\") # When Aus changes to Ant, occurance are nil because of + sign\n",
    "print(match2)\n",
    "match3 = re.search(\"(Ant)*tralia\", \"Australia\") # Occurance is 1 because of * sign. This is searching the succeeding string\n",
    "print(match3)"
   ]
  },
  {
   "cell_type": "markdown",
   "id": "d6fc24bb",
   "metadata": {},
   "source": [
    "#### 11. What is the difference between {4} and {4,5} in regular expression?"
   ]
  },
  {
   "cell_type": "markdown",
   "id": "ec4935bc",
   "metadata": {},
   "source": [
    "**Ans:** The **`{4}`** specifies that there should be 4 copies of the regex. Whereas the **`{4,5}`** indicates that the regex should repeat atleast 4 and at max 5 times (inclusively)"
   ]
  },
  {
   "cell_type": "code",
   "execution_count": 21,
   "id": "dfac6275",
   "metadata": {},
   "outputs": [
    {
     "name": "stdout",
     "output_type": "stream",
     "text": [
      "<re.Match object; span=(2, 4), match='ss'>\n",
      "<re.Match object; span=(6, 8), match='ss'>\n"
     ]
    }
   ],
   "source": [
    "ssregex = re.compile(r's{2}')\n",
    "s1 = ssregex.search('Mississipi')\n",
    "s2 = ssregex.search('Hapiness')\n",
    "print(s1)\n",
    "print(s2)"
   ]
  },
  {
   "cell_type": "markdown",
   "id": "26f22716",
   "metadata": {},
   "source": [
    "#### 12. What do you mean by the `\\d`, `\\w`, and `\\s` shorthand character classes signify in regular expressions?"
   ]
  },
  {
   "cell_type": "markdown",
   "id": "98512fe4",
   "metadata": {},
   "source": [
    "* `\\w` - Matches a word (Unicode) character equivalent to [a-z A-Z 0-9_]\n",
    "* `\\d` - Matches digit character equivalent to [0 - 9]\n",
    "* `\\s` - Matches whitespace character (space, tab, newline)[ \\t\\n\\r\\f\\v]"
   ]
  },
  {
   "cell_type": "markdown",
   "id": "05d4945f",
   "metadata": {},
   "source": [
    "#### 13. What do means by \\D, \\W, and \\S shorthand character classes signify in regular expressions?"
   ]
  },
  {
   "cell_type": "markdown",
   "id": "c75d0905",
   "metadata": {},
   "source": [
    "* `\\D` - Matches any character that is not a number. It is a shortcut to find something which is not a digit from 0 to 9\n",
    "* `\\W` - Represents anything that is not a character (letter, number, and underscore)\n",
    "* `\\S` - Represents any character that is not a space."
   ]
  },
  {
   "cell_type": "markdown",
   "id": "35960bf7",
   "metadata": {},
   "source": [
    "#### 14. What is the difference between `.*?` and `.*`?"
   ]
  },
  {
   "cell_type": "markdown",
   "id": "be876a81",
   "metadata": {},
   "source": [
    "**Ans:** `.*` is a Greedy mode which returns the longest string meeting the condition. The `.*?` is a non greedy mode which returns the shortest string that meets the condition."
   ]
  },
  {
   "cell_type": "markdown",
   "id": "75bbd341",
   "metadata": {},
   "source": [
    "#### 15. What is the syntax for matching both numbers and lowercase letters with a character class?"
   ]
  },
  {
   "cell_type": "markdown",
   "id": "c4a94c0d",
   "metadata": {},
   "source": [
    "**Ans:** The Synatax is Either [a-z0-9] or [0-9a-z]"
   ]
  },
  {
   "cell_type": "markdown",
   "id": "083fd80e",
   "metadata": {},
   "source": [
    "#### 16. What is the procedure for making a normal expression in regax case insensitive?"
   ]
  },
  {
   "cell_type": "markdown",
   "id": "52f9e5d2",
   "metadata": {},
   "source": [
    "**Ans:** By using re.IGNORECASE as a flag, we could make the normal expression case insensitive"
   ]
  },
  {
   "cell_type": "markdown",
   "id": "75004505",
   "metadata": {},
   "source": [
    "#### 17. What does the . character normally match? What does it match if re.DOTALL is passed as 2nd argument in re.compile()?"
   ]
  },
  {
   "cell_type": "markdown",
   "id": "93fb576b",
   "metadata": {},
   "source": [
    "**Ans:** Here is a code which would explain the use of re.DOTALL in the code"
   ]
  },
  {
   "cell_type": "code",
   "execution_count": 24,
   "id": "db8a3b3c",
   "metadata": {},
   "outputs": [
    {
     "name": "stdout",
     "output_type": "stream",
     "text": [
      "<re.Match object; span=(0, 4), match='Cake'>\n",
      "<re.Match object; span=(0, 4), match='ca\\ne'>\n"
     ]
    }
   ],
   "source": [
    "ip = re.compile(r'ca.e', re.IGNORECASE)\n",
    "res1 = ip.search('Cake')\n",
    "print(res1)\n",
    "\n",
    "ip2 = re.compile(r'ca.e', re.DOTALL)\n",
    "res2 = ip2.search('ca\\ne')\n",
    "print(res2)"
   ]
  },
  {
   "cell_type": "markdown",
   "id": "cc9d7661",
   "metadata": {},
   "source": [
    "#### 18. If numReg = re.compile(r'\\d+'), what will numRegex.sub('X', '11 drummers, 10 pipers, five rings, 4 hen') return?\n"
   ]
  },
  {
   "cell_type": "code",
   "execution_count": 25,
   "id": "38857215",
   "metadata": {},
   "outputs": [
    {
     "data": {
      "text/plain": [
       "'X drummers, X pipers, five rings, X hen'"
      ]
     },
     "execution_count": 25,
     "metadata": {},
     "output_type": "execute_result"
    }
   ],
   "source": [
    "numReg = re.compile(r'\\d+')\n",
    "numReg.sub('X', '11 drummers, 10 pipers, five rings, 4 hen')"
   ]
  },
  {
   "cell_type": "markdown",
   "id": "b840a529",
   "metadata": {},
   "source": [
    "#### 19. What does passing re.VERBOSE as the 2nd argument to re.compile() allow to do?"
   ]
  },
  {
   "cell_type": "code",
   "execution_count": 28,
   "id": "24da7c3c",
   "metadata": {},
   "outputs": [
    {
     "name": "stdout",
     "output_type": "stream",
     "text": [
      "<re.Match object; span=(0, 11), match='xyz@xyz.com'>\n"
     ]
    }
   ],
   "source": [
    "pattern = re.compile('''\n",
    "^              #Start of string \n",
    "[A-Z0-9._%+-]+ #Username\n",
    "@              # @ symbol\n",
    "[A-Z0-9.-]+    # Domain name\n",
    "\\.             # Dot\n",
    "[A-Z]{2,}      # Top-level domain\n",
    "$              # End of string\n",
    "''', re.IGNORECASE | re.VERBOSE)\n",
    "res3 = pattern.match('xyz@xyz.com')\n",
    "print(res3)"
   ]
  },
  {
   "cell_type": "markdown",
   "id": "3443ef5e",
   "metadata": {},
   "source": [
    "#### 20. How would you write a regex that match a number with comma for every three digits? It must match the given following:"
   ]
  },
  {
   "cell_type": "code",
   "execution_count": 29,
   "id": "f267d6b6",
   "metadata": {},
   "outputs": [
    {
     "name": "stdout",
     "output_type": "stream",
     "text": [
      "Output: 42 -> <re.Match object; span=(0, 2), match='42'>\n",
      "Output: 1,234 -> <re.Match object; span=(0, 5), match='1,234'>\n",
      "Output: 6,368,745 -> <re.Match object; span=(0, 9), match='6,368,745'>\n",
      "Output: 12,34,567 -> None\n",
      "Output: 1234 -> None\n"
     ]
    }
   ],
   "source": [
    "pattern = r'^\\d{1,3}(,\\d{3})*$'\n",
    "pagex = re.compile(pattern)\n",
    "for ele in ['42','1,234', '6,368,745','12,34,567','1234']:\n",
    "    print('Output:',ele, '->', pagex.search(ele))"
   ]
  },
  {
   "cell_type": "markdown",
   "id": "1bd7e24b",
   "metadata": {},
   "source": [
    "#### 21. How would you write a regex that matches the full name of someone whose last name is Watanabe? You can assume that the first name that comes before it will always be one word that begins with a capital letter. The regex must match the following:\n",
    "\n",
    "'Haruto Watanabe'\n",
    "'Alice Watanabe'\n",
    "'RoboCop Watanabe'\n",
    "\n",
    "but not the following:\n",
    "\n",
    "'haruto Watanabe' (where the first name is not capitalized)\n",
    "'Mr. Watanabe' (where the preceding word has a nonletter character)\n",
    "'Watanabe' (which has no first name)\n",
    "'Haruto watanabe' (where Watanabe is not capitalized)"
   ]
  },
  {
   "cell_type": "code",
   "execution_count": 30,
   "id": "514c4334",
   "metadata": {},
   "outputs": [
    {
     "name": "stdout",
     "output_type": "stream",
     "text": [
      "Output:  Haruto Watanabe -> <re.Match object; span=(0, 15), match='Haruto Watanabe'>\n",
      "Output:  Alice Watanabe -> <re.Match object; span=(0, 14), match='Alice Watanabe'>\n",
      "Output:  RoboCop Watanabe -> <re.Match object; span=(4, 16), match='Cop Watanabe'>\n",
      "Output:  haruto Watanabe -> None\n",
      "Output:  Mr. Watanabe -> None\n",
      "Output:  Watanabe -> None\n",
      "Output:  Haruto watanabe -> None\n"
     ]
    }
   ],
   "source": [
    "pattern = r'[A-Z]{1}[a-z]*\\sWatanabe'\n",
    "namex = re.compile(pattern)\n",
    "for name in ['Haruto Watanabe','Alice Watanabe','RoboCop Watanabe','haruto Watanabe','Mr. Watanabe','Watanabe','Haruto watanabe']:\n",
    "    print('Output: ',name,'->',namex.search(name))\n"
   ]
  },
  {
   "cell_type": "markdown",
   "id": "b2fcfc32",
   "metadata": {},
   "source": [
    "#### 22. How would you write a regex that matches a sentence where the first word is either Alice, Bob,or Carol; the second word is either eats, pets, or throws; the third word is apples, cats, or baseballs; and the sentence ends with a period? This regex should be case-insensitive. It must match the following:"
   ]
  },
  {
   "cell_type": "code",
   "execution_count": 32,
   "id": "896632b5",
   "metadata": {},
   "outputs": [
    {
     "name": "stdout",
     "output_type": "stream",
     "text": [
      "Output:  Alice eats apples. -> <re.Match object; span=(0, 18), match='Alice eats apples.'>\n",
      "Output:  Bob pets cats. -> <re.Match object; span=(0, 14), match='Bob pets cats.'>\n",
      "Output:  Carol throws baseballs. -> <re.Match object; span=(0, 23), match='Carol throws baseballs.'>\n",
      "Output:  Alice throws Apples. -> <re.Match object; span=(0, 20), match='Alice throws Apples.'>\n",
      "Output:  BOB EATS CATS. -> <re.Match object; span=(0, 14), match='BOB EATS CATS.'>\n",
      "Output:  RoboCop eats apples. -> None\n",
      "Output:  ALICE THROWS FOOTBALLS. -> None\n",
      "Output:  Carol eats 7 cats. -> None\n"
     ]
    }
   ],
   "source": [
    "pattern = r'(Alice|Bob|Carol)\\s(eats|pets|throws)\\s(apples|cats|baseballs)\\.'\n",
    "casex = re.compile(pattern,re.IGNORECASE)\n",
    "for ele in ['Alice eats apples.','Bob pets cats.','Carol throws baseballs.','Alice throws Apples.','BOB EATS CATS.','RoboCop eats apples.'\n",
    ",'ALICE THROWS FOOTBALLS.','Carol eats 7 cats.']:\n",
    "    print('Output: ',ele,'->',casex.search(ele))"
   ]
  },
  {
   "cell_type": "code",
   "execution_count": null,
   "id": "a9869f82",
   "metadata": {},
   "outputs": [],
   "source": []
  }
 ],
 "metadata": {
  "kernelspec": {
   "display_name": "Python 3 (ipykernel)",
   "language": "python",
   "name": "python3"
  },
  "language_info": {
   "codemirror_mode": {
    "name": "ipython",
    "version": 3
   },
   "file_extension": ".py",
   "mimetype": "text/x-python",
   "name": "python",
   "nbconvert_exporter": "python",
   "pygments_lexer": "ipython3",
   "version": "3.10.9"
  }
 },
 "nbformat": 4,
 "nbformat_minor": 5
}
