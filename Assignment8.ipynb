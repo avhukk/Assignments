{
 "cells": [
  {
   "cell_type": "markdown",
   "id": "db1c589d",
   "metadata": {},
   "source": [
    "# Assignment 8\n",
    "## Prepared by Dr. Abhishek Hukkerikar"
   ]
  },
  {
   "cell_type": "markdown",
   "id": "38a010ea",
   "metadata": {},
   "source": [
    "#### 1. Is the Python Standard Library included with PyInputPlus?"
   ]
  },
  {
   "cell_type": "markdown",
   "id": "7bd379e9",
   "metadata": {},
   "source": [
    "**Ans:** `PyInputPlus` is not a part of Python standard library. If on Jupyter notebook, one could enter `!pip install PyInputPlus`"
   ]
  },
  {
   "cell_type": "markdown",
   "id": "be3afd77",
   "metadata": {},
   "source": [
    "#### 2. Why is PyInputPlus commonly imported with import pyinputplus as pypi?"
   ]
  },
  {
   "cell_type": "markdown",
   "id": "e1f3fe33",
   "metadata": {},
   "source": [
    "This is valid to all the libraries. Even **`pandas`** is imported as **`pd`**. With `import pyinputplus as pyip` one can enter a shorter name when calling moudule in the code"
   ]
  },
  {
   "cell_type": "markdown",
   "id": "f8e06eaf",
   "metadata": {},
   "source": [
    "#### 3. How do you distinguish between inputInt() and inputFloat()?"
   ]
  },
  {
   "cell_type": "markdown",
   "id": "7fe99285",
   "metadata": {},
   "source": [
    "**Ans:** Please check the code below: "
   ]
  },
  {
   "cell_type": "code",
   "execution_count": null,
   "id": "8c7f0b1b",
   "metadata": {},
   "outputs": [],
   "source": [
    "import pyinputplus as pyip\n",
    "\n",
    "name = pyip.inputStr(\"Enter your name: \")\n",
    "age = pyip.inputInt(\"Enter your age: \", min=1, max=100)\n",
    "weight = pyip.inputFloat(\"Enter your weight (in kg): \", min=1.0)\n",
    "\n",
    "print(\"Hello,\", name + \"! You are\", age, \"years old and weigh\", weight, \"kg.\")"
   ]
  },
  {
   "cell_type": "markdown",
   "id": "ce6cfa59",
   "metadata": {},
   "source": [
    "Thus, `inputInt()` would accept an integer value, with the parameters like `min`, `max`, `greaterthan`, `lessthan` whereas, `inputFloat()` accepts a floating point value also accepting the foregoing bounds but returning a floating value"
   ]
  },
  {
   "cell_type": "markdown",
   "id": "a826b449",
   "metadata": {},
   "source": [
    "#### 4. Using PyInputPlus, how do you ensure that the user enters a whole number between 0 and 99?"
   ]
  },
  {
   "cell_type": "markdown",
   "id": "caa27ad8",
   "metadata": {},
   "source": [
    "**Ans:** By default PyInputPlus module function `inputInt()` returns integer values. As seen in the code of question 3, one could restrict the user to be in the range provided using `min` and `max`"
   ]
  },
  {
   "cell_type": "markdown",
   "id": "2c547749",
   "metadata": {},
   "source": [
    "#### 5. What is transferred to the keyword arguments allowRegexes and blockRegexes?"
   ]
  },
  {
   "cell_type": "markdown",
   "id": "a680e01d",
   "metadata": {},
   "source": [
    "**Ans:** According to the literature:\n",
    "* `allowlistRegexes` (Sequence, None): A sequence of regex str that will explicitly pass validation.\n",
    "* `blocklistRegexes` (Sequence, None): A sequence of regex str or ``(regex_str, error_msg_str)`` tuples that, if matched, will explicitly fail validation."
   ]
  },
  {
   "cell_type": "markdown",
   "id": "250f6cf6",
   "metadata": {},
   "source": [
    "#### 6. If a blank input is entered three times, what does inputStr(limit=3) do?"
   ]
  },
  {
   "cell_type": "markdown",
   "id": "990b3fef",
   "metadata": {},
   "source": [
    "**Ans:** The statement `inputStr(limit=3)` will return following exceptions: \n",
    "* ValidationException\n",
    "* RetryLimitException\n",
    "\n",
    "The `ValidationException` occurs because blank values are not allowed by `inputStr` by default. This could be circumvented if `blank = True` is added. \n",
    "\n",
    "The `RetryLimitException` occurs because of reaching the maximum limit having being reached. To avoid the exception, we could use the `default` parameter to return a default value when max limit is reached. "
   ]
  },
  {
   "cell_type": "markdown",
   "id": "0f3297a1",
   "metadata": {},
   "source": [
    "#### 7. If blank input is entered three times, what does inputStr(limit=3, default='hello') do?"
   ]
  },
  {
   "cell_type": "markdown",
   "id": "beee7421",
   "metadata": {},
   "source": [
    "**Ans:** As the default parameter is set to hello, after entering blank three times, the function will return hello as response  instead of raising `RetryLimitException`. "
   ]
  }
 ],
 "metadata": {
  "kernelspec": {
   "display_name": "Python 3 (ipykernel)",
   "language": "python",
   "name": "python3"
  },
  "language_info": {
   "codemirror_mode": {
    "name": "ipython",
    "version": 3
   },
   "file_extension": ".py",
   "mimetype": "text/x-python",
   "name": "python",
   "nbconvert_exporter": "python",
   "pygments_lexer": "ipython3",
   "version": "3.10.9"
  }
 },
 "nbformat": 4,
 "nbformat_minor": 5
}
